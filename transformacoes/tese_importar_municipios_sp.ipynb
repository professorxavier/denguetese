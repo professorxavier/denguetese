{
  "nbformat": 4,
  "nbformat_minor": 0,
  "metadata": {
    "colab": {
      "provenance": []
    },
    "kernelspec": {
      "name": "python3",
      "display_name": "Python 3"
    },
    "language_info": {
      "name": "python"
    }
  },
  "cells": [
    {
      "cell_type": "markdown",
      "source": [
        "# Municípios\n",
        "\n",
        "**Descrição:** importação da lista de nomes dos municípios do estado de São Paulo incluindo o seu departamento regional de saúde (DRS).\n",
        "\n",
        "**Fonte:** dados de mortalidade infantil dos municípios do estado coletados a partir da Fundação SEADE.\n",
        "\n",
        "**Saída:** dois arquivos CSV contendo os nomes dos municípios, DRS e dados de mortalidade infantil."
      ],
      "metadata": {
        "id": "GhlkxBY_cUro"
      }
    },
    {
      "cell_type": "markdown",
      "source": [
        "## Conexão ao Google Drive"
      ],
      "metadata": {
        "id": "SkA79-DjdXtm"
      }
    },
    {
      "cell_type": "code",
      "execution_count": null,
      "metadata": {
        "id": "Up9Y27527f0Q"
      },
      "outputs": [],
      "source": [
        "from google.colab import drive\n",
        "drive.mount('/content/drive', force_remount=True)\n"
      ]
    },
    {
      "cell_type": "markdown",
      "source": [
        "## Leitura das variáveis de ambiente"
      ],
      "metadata": {
        "id": "sYJ_1yvCpa3n"
      }
    },
    {
      "cell_type": "code",
      "source": [
        "!pip install python-dotenv"
      ],
      "metadata": {
        "id": "bOuzOcKxnAE3"
      },
      "execution_count": null,
      "outputs": []
    },
    {
      "cell_type": "code",
      "source": [
        "from dotenv import load_dotenv\n",
        "from pathlib import Path\n",
        "import os\n",
        "\n",
        "caminho_env = open(\"drive/MyDrive/caminho_env.txt\").readline()\n",
        "\n",
        "# indicação do caminho do env\n",
        "dotenv_path = Path(caminho_env)\n",
        "\n",
        "load_dotenv(dotenv_path=dotenv_path)\n",
        "\n",
        "# indicar o caminho de leitura dos arquivos de entrada\n",
        "input = os.getenv(\"DADOS_ENTRADA_CONTEXTO\")\n",
        "# pasta onde serão armazenados os arquivos csv\n",
        "output = os.getenv(\"DADOS_SAIDA\")"
      ],
      "metadata": {
        "id": "japsryMFnXJ8"
      },
      "execution_count": null,
      "outputs": []
    },
    {
      "cell_type": "markdown",
      "source": [
        "## Importação do arquivo no formato XLS"
      ],
      "metadata": {
        "id": "WGp45xhKdc53"
      }
    },
    {
      "cell_type": "code",
      "source": [
        "import pandas as pd\n",
        "\n",
        "df = pd.read_excel(input + \"mort_intantil_2015_2019.xlsx\")\n",
        "\n",
        "df.head()"
      ],
      "metadata": {
        "id": "goKS4oGl74eV"
      },
      "execution_count": null,
      "outputs": []
    },
    {
      "cell_type": "markdown",
      "source": [
        "## Separação da lista de DRS"
      ],
      "metadata": {
        "id": "HaalBnBwdwma"
      }
    },
    {
      "cell_type": "code",
      "source": [
        "dfdrs = df[df.DRS=='-']\n",
        "dfdrs = dfdrs[dfdrs.codigo!='1000']\n",
        "dfdrs"
      ],
      "metadata": {
        "id": "Pd0gMQ8R-XqN"
      },
      "execution_count": null,
      "outputs": []
    },
    {
      "cell_type": "markdown",
      "source": [
        "## Armazenamento das DRS em CSV"
      ],
      "metadata": {
        "id": "L0xZ3FHcd3C_"
      }
    },
    {
      "cell_type": "code",
      "source": [
        "dfdrs2 = pd.DataFrame()\n",
        "\n",
        "dfdrs2['cod'] = [x[0].replace(\" \",\"\") for x in dfdrs.Nome.str.split(\" - \").tolist()]\n",
        "dfdrs2['nome'] = [x[1] for x in dfdrs.Nome.str.split(\" - \").tolist()]\n",
        "dfdrs2.to_csv(output + \"lista_drs_SP.csv\")"
      ],
      "metadata": {
        "id": "m6OFXSJ5-wit"
      },
      "execution_count": null,
      "outputs": []
    },
    {
      "cell_type": "markdown",
      "source": [
        "## Separação dos municípios do estado e suas DRS"
      ],
      "metadata": {
        "id": "GXv21gNBd8Kr"
      }
    },
    {
      "cell_type": "code",
      "source": [
        "dfmun = df[[\"codigo\", \"DRS\", \"Nome\"]]\n",
        "dfmun = dfmun[dfmun.DRS!=\"-\"]\n"
      ],
      "metadata": {
        "id": "9L1e4BGTCo7R"
      },
      "execution_count": null,
      "outputs": []
    },
    {
      "cell_type": "markdown",
      "source": [
        "## Armazenamento dos municípios em CSV"
      ],
      "metadata": {
        "id": "chNtRPX2eCIh"
      }
    },
    {
      "cell_type": "code",
      "source": [
        "dfmun.to_csv(output + \"lista_mun_SP.csv\")"
      ],
      "metadata": {
        "id": "JjvKJ7L5eCWe"
      },
      "execution_count": null,
      "outputs": []
    }
  ]
}