{
  "nbformat": 4,
  "nbformat_minor": 0,
  "metadata": {
    "colab": {
      "provenance": []
    },
    "kernelspec": {
      "name": "python3",
      "display_name": "Python 3"
    },
    "language_info": {
      "name": "python"
    }
  },
  "cells": [
    {
      "cell_type": "markdown",
      "source": [
        "# PIB\n",
        "\n",
        "**Descrição:** importação dos dados do produto interno produto (PIB) de todos os municípios do Brasil.\n",
        "\n",
        "**Fonte:** dados do PIB de 2002 a 2019 coletados junto ao IBGE.\n",
        "\n",
        "**Saída:** arquivo CSV com os dados de PIB apenas dos municípios do estado de Sâo Paulo para os anos de 2014 a 2019."
      ],
      "metadata": {
        "id": "GhlkxBY_cUro"
      }
    },
    {
      "cell_type": "markdown",
      "source": [
        "## Conexão ao Google Drive"
      ],
      "metadata": {
        "id": "pbgQ3Wovp-uL"
      }
    },
    {
      "cell_type": "code",
      "execution_count": null,
      "metadata": {
        "id": "7A2XNR47p-uM"
      },
      "outputs": [],
      "source": [
        "from google.colab import drive\n",
        "drive.mount('/content/drive', force_remount=True)\n"
      ]
    },
    {
      "cell_type": "markdown",
      "source": [
        "## Leitura das variáveis de ambiente"
      ],
      "metadata": {
        "id": "sYJ_1yvCpa3n"
      }
    },
    {
      "cell_type": "code",
      "source": [
        "!pip install python-dotenv"
      ],
      "metadata": {
        "id": "bOuzOcKxnAE3"
      },
      "execution_count": null,
      "outputs": []
    },
    {
      "cell_type": "code",
      "source": [
        "from dotenv import load_dotenv\n",
        "from pathlib import Path\n",
        "import os\n",
        "\n",
        "caminho_env = open(\"drive/MyDrive/caminho_env.txt\").readline()\n",
        "\n",
        "# indicação do caminho do env\n",
        "dotenv_path = Path(caminho_env)\n",
        "\n",
        "load_dotenv(dotenv_path=dotenv_path)\n",
        "\n",
        "# indicar o caminho de leitura dos arquivos de entrada\n",
        "input = os.getenv(\"DADOS_ENTRADA_CONTEXTO\")\n",
        "# pasta onde serão armazenados os arquivos csv\n",
        "output = os.getenv(\"DADOS_SAIDA\")"
      ],
      "metadata": {
        "id": "japsryMFnXJ8"
      },
      "execution_count": null,
      "outputs": []
    },
    {
      "cell_type": "markdown",
      "source": [
        "## Importação do arquivo no formato CSV"
      ],
      "metadata": {
        "id": "WGp45xhKdc53"
      }
    },
    {
      "cell_type": "code",
      "source": [
        "import pandas as pd\n",
        "\n",
        "df = pd.read_csv(input + \"pib_2002_2019_municipios_brasileiros_SIDRA_IBGE.csv\", delimiter=\";\", encoding=\"utf-8\")\n",
        "\n",
        "df.head()"
      ],
      "metadata": {
        "id": "8fGgnyXpVOwW"
      },
      "execution_count": null,
      "outputs": []
    },
    {
      "cell_type": "code",
      "source": [
        "df.columns = [\"municipio\", \"2002\",\"2003\",\"2004\",\"2005\",\"2006\",\"2007\",\"2008\",\"2009\",\"2010\",\"2011\",\"2012\",\"2013\",\"2014\",\"2015\",\"2016\",\"2017\",\"2018\",\"2019\"]\n",
        "df = df[[\"municipio\", \"2014\",\"2015\",\"2016\",\"2017\",\"2018\",\"2019\"]]\n",
        "df.head()"
      ],
      "metadata": {
        "id": "g5fsJ9W-Z-Ud"
      },
      "execution_count": null,
      "outputs": []
    },
    {
      "cell_type": "markdown",
      "source": [
        "## Seleção dos municípios de SP"
      ],
      "metadata": {
        "id": "PXxIZKlAj3Lh"
      }
    },
    {
      "cell_type": "code",
      "source": [
        "df[\"nome\"] = [x[0] for x in df.municipio.str.split(\"(\")]\n",
        "df[\"estado\"] = [x[1].replace(\")\",\"\") for x in df.municipio.str.split(\"(\")]\n",
        "df = df[df.estado=='SP']\n",
        "df.head()"
      ],
      "metadata": {
        "id": "w_MNh4DBacCv"
      },
      "execution_count": null,
      "outputs": []
    },
    {
      "cell_type": "markdown",
      "source": [
        "## Armazenamento em arquivo CSV"
      ],
      "metadata": {
        "id": "iZ_g61J2k9tj"
      }
    },
    {
      "cell_type": "code",
      "source": [
        "dfsp = df[[\"nome\", \"2014\",\"2015\",\"2016\",\"2017\",\"2018\",\"2019\"]]\n",
        "dfsp.to_csv(output + \"lista_pib_SP.csv\")"
      ],
      "metadata": {
        "id": "eEM5ctsrWyPH"
      },
      "execution_count": null,
      "outputs": []
    }
  ]
}