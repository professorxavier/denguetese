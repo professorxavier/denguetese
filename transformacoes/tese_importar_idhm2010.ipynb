{
  "nbformat": 4,
  "nbformat_minor": 0,
  "metadata": {
    "colab": {
      "provenance": []
    },
    "kernelspec": {
      "name": "python3",
      "display_name": "Python 3"
    },
    "language_info": {
      "name": "python"
    }
  },
  "cells": [
    {
      "cell_type": "markdown",
      "source": [
        "# IDHM\n",
        "\n",
        "**Descrição:** importação dos dados do Índice de Desenvolvimento Humano municipal (IDHM) de acordo com o Censo de 2010. Durante a realização da pesquisa, essa era a fonte mais atualizada do IHDM.\n",
        "\n",
        "**Fonte:** dados do IDH dos municípios do Brasil coletados junto ao IPEA.\n",
        "\n",
        "**Saída:** arquivo CSV com os dados de IDH apenas dos municípios do estado de Sâo Paulo."
      ],
      "metadata": {
        "id": "GhlkxBY_cUro"
      }
    },
    {
      "cell_type": "markdown",
      "source": [
        "## Conexão ao Google Drive"
      ],
      "metadata": {
        "id": "km7W-JeLp77u"
      }
    },
    {
      "cell_type": "code",
      "execution_count": null,
      "metadata": {
        "id": "G2oY2OYXp772"
      },
      "outputs": [],
      "source": [
        "from google.colab import drive\n",
        "drive.mount('/content/drive', force_remount=True)\n"
      ]
    },
    {
      "cell_type": "markdown",
      "source": [
        "## Leitura das variáveis de ambiente"
      ],
      "metadata": {
        "id": "sYJ_1yvCpa3n"
      }
    },
    {
      "cell_type": "code",
      "source": [
        "!pip install python-dotenv"
      ],
      "metadata": {
        "id": "bOuzOcKxnAE3"
      },
      "execution_count": null,
      "outputs": []
    },
    {
      "cell_type": "code",
      "source": [
        "from dotenv import load_dotenv\n",
        "from pathlib import Path\n",
        "import os\n",
        "\n",
        "caminho_env = open(\"drive/MyDrive/caminho_env.txt\").readline()\n",
        "\n",
        "# indicação do caminho do env\n",
        "dotenv_path = Path(caminho_env)\n",
        "\n",
        "load_dotenv(dotenv_path=dotenv_path)\n",
        "\n",
        "# indicar o caminho de leitura dos arquivos de entrada\n",
        "input = os.getenv(\"DADOS_ENTRADA_CONTEXTO\")\n",
        "# pasta onde serão armazenados os arquivos csv\n",
        "output = os.getenv(\"DADOS_SAIDA\")"
      ],
      "metadata": {
        "id": "japsryMFnXJ8"
      },
      "execution_count": null,
      "outputs": []
    },
    {
      "cell_type": "markdown",
      "source": [
        "## Importação do arquivo no formato CSV"
      ],
      "metadata": {
        "id": "WGp45xhKdc53"
      }
    },
    {
      "cell_type": "code",
      "source": [
        "import pandas as pd\n",
        "\n",
        "df = pd.read_csv(input + \"idhm_2010.csv\", delimiter=\";\", encoding=\"iso-8859-1\")\n",
        "\n",
        "df.head()"
      ],
      "metadata": {
        "id": "goKS4oGl74eV"
      },
      "execution_count": null,
      "outputs": []
    },
    {
      "cell_type": "markdown",
      "source": [
        "## Extração dos nomes dos municípios e respectivas siglas dos estados"
      ],
      "metadata": {
        "id": "cGf7VR_Hjrh1"
      }
    },
    {
      "cell_type": "code",
      "source": [
        "df['mun'] = [x[0] for x in df.nome.str.split(\"(\").tolist()]\n",
        "df['estado'] = [x[1].replace(\")\",\"\") for x in df.nome.str.split(\"(\").tolist()]\n",
        "df.head()"
      ],
      "metadata": {
        "id": "NMsdDEAhOTVg"
      },
      "execution_count": null,
      "outputs": []
    },
    {
      "cell_type": "markdown",
      "source": [
        "## Seleção dos municípios de SP"
      ],
      "metadata": {
        "id": "PXxIZKlAj3Lh"
      }
    },
    {
      "cell_type": "code",
      "source": [
        "dfidhm = df[df.estado=='SP']\n",
        "dfidhm = dfidhm[[\"mun\", \"idhm\", \"idhmr\", \"idhme\", \"idhml\"]]\n",
        "dfidhm.head()"
      ],
      "metadata": {
        "id": "ZCQiV8RjOkm1"
      },
      "execution_count": null,
      "outputs": []
    },
    {
      "cell_type": "code",
      "source": [
        "dfidhm[\"mun\"] = dfidhm.mun.str[:-1]\n",
        "dfidhm.head()"
      ],
      "metadata": {
        "id": "zwG8mcqBRSC2"
      },
      "execution_count": null,
      "outputs": []
    },
    {
      "cell_type": "markdown",
      "source": [
        "## Armazenamento em arquivo CSV"
      ],
      "metadata": {
        "id": "iZ_g61J2k9tj"
      }
    },
    {
      "cell_type": "code",
      "source": [
        "dfidhm.to_csv(output + \"lista_idhm2010_SP.csv\")"
      ],
      "metadata": {
        "id": "m6OFXSJ5-wit"
      },
      "execution_count": null,
      "outputs": []
    }
  ]
}