{
  "nbformat": 4,
  "nbformat_minor": 0,
  "metadata": {
    "colab": {
      "provenance": []
    },
    "kernelspec": {
      "name": "python3",
      "display_name": "Python 3"
    },
    "language_info": {
      "name": "python"
    }
  },
  "cells": [
    {
      "cell_type": "markdown",
      "source": [
        "# Uso do solo\n",
        "\n",
        "**Descrição:** importação dos dados de uso do solo de todos os municípios do Brasil.\n",
        "\n",
        "**Fonte:** arquivo XLS com soma de áreas por categoria para todos os municípios do Brasil de 1985 a 2022 obtidos junto ao MabBiomas.\n",
        "\n",
        "**Saída:** arquivos CSV o total de área por município assim como os totais por categpria apenas os municípios do estado de São Paulo."
      ],
      "metadata": {
        "id": "GhlkxBY_cUro"
      }
    },
    {
      "cell_type": "markdown",
      "source": [
        "## Conexão ao Google Drive"
      ],
      "metadata": {
        "id": "pbgQ3Wovp-uL"
      }
    },
    {
      "cell_type": "code",
      "execution_count": null,
      "metadata": {
        "id": "7A2XNR47p-uM"
      },
      "outputs": [],
      "source": [
        "from google.colab import drive\n",
        "drive.mount('/content/drive', force_remount=True)\n"
      ]
    },
    {
      "cell_type": "markdown",
      "source": [
        "## Leitura das variáveis de ambiente"
      ],
      "metadata": {
        "id": "sYJ_1yvCpa3n"
      }
    },
    {
      "cell_type": "code",
      "source": [
        "!pip install python-dotenv"
      ],
      "metadata": {
        "id": "bOuzOcKxnAE3"
      },
      "execution_count": null,
      "outputs": []
    },
    {
      "cell_type": "code",
      "source": [
        "from dotenv import load_dotenv\n",
        "from pathlib import Path\n",
        "import os\n",
        "\n",
        "caminho_env = open(\"drive/MyDrive/caminho_env.txt\").readline()\n",
        "\n",
        "# indicação do caminho do env\n",
        "dotenv_path = Path(caminho_env)\n",
        "\n",
        "load_dotenv(dotenv_path=dotenv_path)\n",
        "\n",
        "# indicar o caminho de leitura dos arquivos de entrada\n",
        "input = os.getenv(\"DADOS_ENTRADA_CONTEXTO\")\n",
        "# pasta onde serão armazenados os arquivos csv\n",
        "output = os.getenv(\"DADOS_SAIDA\")"
      ],
      "metadata": {
        "id": "japsryMFnXJ8"
      },
      "execution_count": null,
      "outputs": []
    },
    {
      "cell_type": "markdown",
      "source": [
        "## Importação do arquivo no formato XLSX"
      ],
      "metadata": {
        "id": "WGp45xhKdc53"
      }
    },
    {
      "cell_type": "code",
      "source": [
        "import pandas as pd\n",
        "\n",
        "# esse arquivo não está salvo no repositório por conta do seu tamanho grande. Mas você pode baixá-lo direto do site do MapBiomas (ver referências no readme).\n",
        "df = pd.read_excel(input + \"estats_mapbiomas.xlsx\", sheet_name=\"LAND COVER\")\n",
        "\n",
        "df.head()"
      ],
      "metadata": {
        "id": "8fGgnyXpVOwW"
      },
      "execution_count": null,
      "outputs": []
    },
    {
      "cell_type": "code",
      "source": [
        "df.columns = ['state',       'city',   'geo_code', 'feature_id',      'index',\n",
        "         'class_id',    'level_0',    'level_1',    'level_2',    'level_3',\n",
        "          'level_4',      'color',   'category',         '1985',        '1986',\n",
        "               '1987',         '1988',         '1989',         '1990',         '1991',\n",
        "               '1992',         '1993',         '1994',         '1995',         '1996',\n",
        "               '1997',         '1998',         '1999',         '2000',         '2001',\n",
        "               '2002',         '2003',         '2004',         '2005',         '2006',\n",
        "               '2007',         '2008',         '2009',         '2010',         '2011',\n",
        "               '2012',         '2013',         '2014',         '2015',         '2016',\n",
        "               '2017',         '2018',         '2019',         '2020']"
      ],
      "metadata": {
        "id": "pzBOTpkDhJsF"
      },
      "execution_count": null,
      "outputs": []
    },
    {
      "cell_type": "markdown",
      "source": [
        "## Seleção dos municípios de SP"
      ],
      "metadata": {
        "id": "PXxIZKlAj3Lh"
      }
    },
    {
      "cell_type": "code",
      "source": [
        "df=df[df.state=='SP']\n",
        "df=df[df.category=='city']"
      ],
      "metadata": {
        "id": "AtM4QOFTge3d"
      },
      "execution_count": null,
      "outputs": []
    },
    {
      "cell_type": "code",
      "source": [
        "df = df[['city','level_0','level_1','level_2','level_3','level_4','2015','2016','2017','2018','2019']]\n",
        "df.fillna(0,inplace = True)\n",
        "df.head()"
      ],
      "metadata": {
        "id": "HJcAfEHqgo1l"
      },
      "execution_count": null,
      "outputs": []
    },
    {
      "cell_type": "markdown",
      "source": [
        "## Cálculo da área total considerando o ano de 2015\n",
        "\n",
        "Por que 2015? Ano inicial do período utilizado na pesquisa. Você pode escolher um ano mais recente, dependendo do seu objetivo."
      ],
      "metadata": {
        "id": "oSjOJ78Uv8Uw"
      }
    },
    {
      "cell_type": "code",
      "source": [
        "dfarea = pd.DataFrame(df.groupby([\"city\"])[\"2015\"].sum()).reset_index()\n",
        "dfarea.columns = [\"nome\", \"area\"]\n",
        "dfarea"
      ],
      "metadata": {
        "id": "g5fsJ9W-Z-Ud"
      },
      "execution_count": null,
      "outputs": []
    },
    {
      "cell_type": "markdown",
      "source": [
        "## Armazenamento dos dados de área"
      ],
      "metadata": {
        "id": "B2gUyiqawREz"
      }
    },
    {
      "cell_type": "code",
      "source": [
        "dfarea.to_csv(output + \"lista_area_SP.csv\")"
      ],
      "metadata": {
        "id": "w_MNh4DBacCv"
      },
      "execution_count": null,
      "outputs": []
    },
    {
      "cell_type": "markdown",
      "source": [
        "## Armazenamento dos dados por categoria\n",
        "\n",
        "Obs: Antes foi necessário realizar uma transformação nos nomes de quatro municípios, devido a divergências nas grafias entre as bases."
      ],
      "metadata": {
        "id": "cKXeR9AHwY5o"
      }
    },
    {
      "cell_type": "code",
      "source": [
        "df['city'] = df['city'].str.replace('Florinea','Florínia')\n",
        "df['city'] = df['city'].str.replace('São Luis do Paraitinga','São Luís do Paraitinga')\n",
        "df['city'] = df['city'].str.replace('Biritiba Mirim','Biritiba-Mirim')\n",
        "df['city'] = df['city'].str.replace('Itaoca','Itaóca')\n",
        "\n",
        "# armazenamento\n",
        "df.to_csv(output + \"lista_uso_solo.csv\")"
      ],
      "metadata": {
        "id": "CvX6z2hNlDd_"
      },
      "execution_count": null,
      "outputs": []
    }
  ]
}