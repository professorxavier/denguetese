{
  "nbformat": 4,
  "nbformat_minor": 0,
  "metadata": {
    "colab": {
      "provenance": []
    },
    "kernelspec": {
      "name": "python3",
      "display_name": "Python 3"
    },
    "language_info": {
      "name": "python"
    }
  },
  "cells": [
    {
      "cell_type": "markdown",
      "source": [
        "# Água e Esgoto\n",
        "\n",
        "**Descrição:** importação dos dados referentes a distribuição de água e saneamento.\n",
        "\n",
        "**Fonte:** arquivo CSV com valores de população atendida com distribuição de água e saneamento.\n",
        "\n",
        "**Saída:** arquivo CSV com os valores para os municípios do estado de São Paulo."
      ],
      "metadata": {
        "id": "GhlkxBY_cUro"
      }
    },
    {
      "cell_type": "markdown",
      "source": [
        "## Conexão ao Google Drive"
      ],
      "metadata": {
        "id": "pbgQ3Wovp-uL"
      }
    },
    {
      "cell_type": "code",
      "execution_count": null,
      "metadata": {
        "id": "7A2XNR47p-uM"
      },
      "outputs": [],
      "source": [
        "from google.colab import drive\n",
        "drive.mount('/content/drive', force_remount=True)\n"
      ]
    },
    {
      "cell_type": "markdown",
      "source": [
        "## Leitura das variáveis de ambiente"
      ],
      "metadata": {
        "id": "sYJ_1yvCpa3n"
      }
    },
    {
      "cell_type": "code",
      "source": [
        "!pip install python-dotenv"
      ],
      "metadata": {
        "id": "bOuzOcKxnAE3"
      },
      "execution_count": null,
      "outputs": []
    },
    {
      "cell_type": "code",
      "source": [
        "from dotenv import load_dotenv\n",
        "from pathlib import Path\n",
        "import os\n",
        "\n",
        "caminho_env = open(\"drive/MyDrive/caminho_env.txt\").readline()\n",
        "\n",
        "# indicação do caminho do env\n",
        "dotenv_path = Path(caminho_env)\n",
        "\n",
        "load_dotenv(dotenv_path=dotenv_path)\n",
        "\n",
        "# indicar o caminho de leitura dos arquivos de entrada\n",
        "input = os.getenv(\"DADOS_ENTRADA_CONTEXTO\")\n",
        "# pasta onde serão armazenados os arquivos csv\n",
        "output = os.getenv(\"DADOS_SAIDA\")"
      ],
      "metadata": {
        "id": "japsryMFnXJ8"
      },
      "execution_count": null,
      "outputs": []
    },
    {
      "cell_type": "markdown",
      "source": [
        "## Importação do arquivo no formato CSV"
      ],
      "metadata": {
        "id": "WGp45xhKdc53"
      }
    },
    {
      "cell_type": "code",
      "source": [
        "import pandas as pd\n",
        "\n",
        "df = pd.read_csv(input + \"snis_agua_esgoto_SP.csv\", delimiter=\";\", encoding=\"iso-8859-1\")\n",
        "df.columns = [\"nome\", \"ano\", \"agua\",\"esgoto\"]\n",
        "\n",
        "df.head()"
      ],
      "metadata": {
        "id": "8fGgnyXpVOwW"
      },
      "execution_count": null,
      "outputs": []
    },
    {
      "cell_type": "markdown",
      "source": [
        "## Preenchimento dos valores faltantes com valores médios do município"
      ],
      "metadata": {
        "id": "HkYaew6f0ZEM"
      }
    },
    {
      "cell_type": "code",
      "source": [
        "df2 = df.copy()\n",
        "df2[\"agua\"] = df['agua'].fillna(df.groupby('nome')['agua'].transform('mean'))"
      ],
      "metadata": {
        "id": "w_MNh4DBacCv"
      },
      "execution_count": null,
      "outputs": []
    },
    {
      "cell_type": "code",
      "source": [
        "df2[\"esgoto\"] = df['esgoto'].fillna(df.groupby('nome')['esgoto'].transform('mean'))"
      ],
      "metadata": {
        "id": "Ff2WJFpWbQ99"
      },
      "execution_count": null,
      "outputs": []
    },
    {
      "cell_type": "code",
      "source": [
        "# alguns municípios não tiveram valores calculados em nenhum ano da base\n",
        "df2[df2.agua.isna()]"
      ],
      "metadata": {
        "id": "DvZOmImrdaTd"
      },
      "execution_count": null,
      "outputs": []
    },
    {
      "cell_type": "markdown",
      "source": [
        "## Armazenamento dos dados tratados em arquivo CSV"
      ],
      "metadata": {
        "id": "EndqliaX0s4E"
      }
    },
    {
      "cell_type": "code",
      "source": [
        "df2.to_csv(\"lista_agua_esgoto_SP.csv\")"
      ],
      "metadata": {
        "id": "eEM5ctsrWyPH"
      },
      "execution_count": null,
      "outputs": []
    }
  ]
}